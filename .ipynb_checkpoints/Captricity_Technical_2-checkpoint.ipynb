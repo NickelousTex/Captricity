{
 "cells": [
  {
   "cell_type": "code",
   "execution_count": 38,
   "metadata": {},
   "outputs": [],
   "source": [
    "import json, requests, csv\n",
    "from contextlib import closing\n",
    "from datetime import timedelta, date, datetime\n",
    "import dateparser #helpful for ambigious dates"
   ]
  },
  {
   "cell_type": "code",
   "execution_count": 2,
   "metadata": {},
   "outputs": [],
   "source": [
    "Batch_ID= 2995585\n",
    "API_token =  {'Captricity-API-Token': '435c308483e040fe9928418703216584'}\n",
    "BASE_URL = 'shreddr.captricity.com' "
   ]
  },
  {
   "cell_type": "code",
   "execution_count": 3,
   "metadata": {},
   "outputs": [],
   "source": [
    "def get_batch_info(batch_id, headers):\n",
    "    url = 'https://{}/api/v1/batch/{}'.format(BASE_URL, batch_id)\n",
    "    batch = requests.get(url, headers=headers)\n",
    "    return json.loads(batch.text)"
   ]
  },
  {
   "cell_type": "markdown",
   "metadata": {},
   "source": [
    " - > get list of child Batches from parent Batch\n",
    " "
   ]
  },
  {
   "cell_type": "code",
   "execution_count": 4,
   "metadata": {},
   "outputs": [],
   "source": [
    "Parent_batch = get_batch_info(Batch_ID,API_token)"
   ]
  },
  {
   "cell_type": "code",
   "execution_count": 6,
   "metadata": {},
   "outputs": [],
   "source": [
    "# Parent_batch"
   ]
  },
  {
   "cell_type": "markdown",
   "metadata": {},
   "source": [
    "   - > for each child Batch \n",
    "        - > get the child Batch info\n",
    "        - > if it is not the reject Batch\n",
    "        "
   ]
  },
  {
   "cell_type": "code",
   "execution_count": 7,
   "metadata": {},
   "outputs": [],
   "source": [
    "def get_children_job_info(parent_batch):\n",
    "    \"\"\"\n",
    "    Returns list of job ids from valid children batches\n",
    "    \"\"\"\n",
    "    job_list = []\n",
    "    for ids in Parent_batch['children_ids']:\n",
    "        child_branch = get_batch_info(ids, API_token)\n",
    "        if not child_branch['reject_reasons']: #verify if it's a reject batch pass if so, else return  jobs id\n",
    "            job_list.extend(child_branch['job_ids'])\n",
    "        else:\n",
    "            pass\n",
    "            \n",
    "    return job_list"
   ]
  },
  {
   "cell_type": "code",
   "execution_count": 9,
   "metadata": {},
   "outputs": [],
   "source": [
    "job_list = get_children_job_info(Parent_batch)\n",
    "# job_list[0]"
   ]
  },
  {
   "cell_type": "markdown",
   "metadata": {},
   "source": [
    "        - > pull the associated Job's output CSV\n",
    "                - > Question- are we always assuming one jobs ID? or should I account for multiple?"
   ]
  },
  {
   "cell_type": "code",
   "execution_count": 325,
   "metadata": {},
   "outputs": [],
   "source": [
    "def get_job_info(job_id, headers):\n",
    "    url = 'https://{}/api/v1/job/{}/csv/'.format(BASE_URL, job_id)\n",
    "    job = requests.get(url, headers=headers)\n",
    "    job_content = job.content.decode('utf-8')\n",
    "    cr = csv.reader(job_content.splitlines(), delimiter=',')\n",
    "    my_list = list(cr)\n",
    "    return my_list\n",
    "# job.text"
   ]
  },
  {
   "cell_type": "code",
   "execution_count": 327,
   "metadata": {},
   "outputs": [
    {
     "data": {
      "text/plain": [
       "'patient_dob'"
      ]
     },
     "execution_count": 327,
     "metadata": {},
     "output_type": "execute_result"
    }
   ],
   "source": [
    "job_text = get_job_info(job_list[0], API_token)\n",
    "job_text[0][4]\n",
    "# job_text[0][7]\n",
    "# job_text[0][8]"
   ]
  },
  {
   "cell_type": "code",
   "execution_count": 347,
   "metadata": {},
   "outputs": [
    {
     "name": "stdout",
     "output_type": "stream",
     "text": [
      "patient_dob:\n",
      "06/20/1979\n",
      "072859\n",
      "--blank--\n",
      "--blank--\n",
      "12221978\n",
      "dos_from:\n",
      "05/30/2000\n",
      "04/23/2018\n",
      "0902055\n",
      "08 19 80\n",
      "02/12/2018\n",
      "dos_to:\n",
      "05 30 2001\n",
      "042418\n",
      "--blank--\n",
      "09/20/1999\n",
      "04/12/2018\n"
     ]
    }
   ],
   "source": [
    "print('patient_dob:')\n",
    "for row in job_text[1:]:\n",
    "    print(row[4])\n",
    "print('dos_from:')\n",
    "for row in job_text[1:]:\n",
    "    print(row[7])\n",
    "print('dos_to:')\n",
    "for row in job_text[1:]:\n",
    "    print(row[8])"
   ]
  },
  {
   "cell_type": "code",
   "execution_count": 348,
   "metadata": {},
   "outputs": [],
   "source": [
    "for row in job_text[1:]:\n",
    "    row[4]=convert_date(row[4])\n",
    "    row[7]=convert_date(row[7])\n",
    "    row[8]=convert_date(row[8])    "
   ]
  },
  {
   "cell_type": "code",
   "execution_count": 349,
   "metadata": {},
   "outputs": [
    {
     "name": "stdout",
     "output_type": "stream",
     "text": [
      "patient_dob:\n",
      "1979-06-20\n",
      "1959-07-28\n",
      "--blank--\n",
      "--blank--\n",
      "1978-12-22\n",
      "dos_from:\n",
      "2000-05-30\n",
      "2018-04-23\n",
      "--impossible--\n",
      "1980-08-19\n",
      "2018-02-12\n",
      "dos_to:\n",
      "2001-05-30\n",
      "2018-04-24\n",
      "--blank--\n",
      "1999-09-20\n",
      "2018-04-12\n"
     ]
    }
   ],
   "source": [
    "print('patient_dob:')\n",
    "for row in job_text[1:]:\n",
    "    print(row[4])\n",
    "print('dos_from:')\n",
    "for row in job_text[1:]:\n",
    "    print(row[7])\n",
    "print('dos_to:')\n",
    "for row in job_text[1:]:\n",
    "    print(row[8])"
   ]
  },
  {
   "cell_type": "code",
   "execution_count": 340,
   "metadata": {},
   "outputs": [],
   "source": [
    "def format_date(old_date):\n",
    "    if old_date > old_date.today():\n",
    "        old_date -= timedelta(days=365.25*100)\n",
    "    else:\n",
    "        pass\n",
    "    return '{}-{:02d}-{:02d}'.format(old_date.year, old_date.month, old_date.day)"
   ]
  },
  {
   "cell_type": "code",
   "execution_count": 333,
   "metadata": {},
   "outputs": [],
   "source": [
    "#Simple checker\n",
    "def convert_date(try_date):\n",
    "    #Can always add in more potential date patterns\n",
    "    date_patterns = [\"%m/%d/%Y\", \"%m%d%y\", '%m%d%Y', '%m%d%y' '%m %d %Y','%Y-%m-%d', '%m %d %y', '%m %d %Y']\n",
    "    if try_date == '--blank--':\n",
    "        return '--blank--'\n",
    "    else:   \n",
    "        for pattern in date_patterns:\n",
    "            try:\n",
    "                datetime.strptime(try_date, pattern).date()    \n",
    "                return format_date(datetime.strptime(try_date, pattern).date())\n",
    "            except:\n",
    "                pass\n",
    "    return '--impossible--'"
   ]
  },
  {
   "cell_type": "code",
   "execution_count": 350,
   "metadata": {},
   "outputs": [
    {
     "data": {
      "text/plain": [
       "[['name',\n",
       "  'plan_type',\n",
       "  'insured_id',\n",
       "  'patient_name',\n",
       "  'patient_dob',\n",
       "  'insured_name',\n",
       "  'signature',\n",
       "  'dos_from',\n",
       "  'dos_to',\n",
       "  'pos',\n",
       "  'emg',\n",
       "  'cpt',\n",
       "  'modifier',\n",
       "  'diag_pointer',\n",
       "  'charges_dollars',\n",
       "  'charges_cents',\n",
       "  'day_of_unit',\n",
       "  'family_plan',\n",
       "  'npi',\n",
       "  'dos_from1',\n",
       "  'dos_to1',\n",
       "  'pos1',\n",
       "  'emg1',\n",
       "  'cpt1',\n",
       "  'modifier1',\n",
       "  'diag_pointer1',\n",
       "  'charges_dollars1',\n",
       "  'charges_cents1',\n",
       "  'day_of_unit1',\n",
       "  'family_plan1',\n",
       "  'npi1',\n",
       "  'service_location',\n",
       "  'billing_phone',\n",
       "  'billing_info'],\n",
       " ['HW_info_spills_smeared_mc_numbersvv_1-page1.png',\n",
       "  'CHAMPVA',\n",
       "  '20340121',\n",
       "  'jason vorheas',\n",
       "  '1979-06-20',\n",
       "  'jason vorheas',\n",
       "  'kew',\n",
       "  '2000-05-30',\n",
       "  '2001-05-30',\n",
       "  'i',\n",
       "  '20',\n",
       "  '401',\n",
       "  '--blank--',\n",
       "  'x',\n",
       "  '300',\n",
       "  '00',\n",
       "  'x',\n",
       "  '4',\n",
       "  '41260',\n",
       "  '--blank--',\n",
       "  '--blank--',\n",
       "  '--blank--',\n",
       "  '--blank--',\n",
       "  '--blank--',\n",
       "  '--blank--',\n",
       "  '--blank--',\n",
       "  '--blank--',\n",
       "  '--blank--',\n",
       "  '--blank--',\n",
       "  '--blank--',\n",
       "  '--blank--',\n",
       "  'sap testing oakland, ca',\n",
       "  '--blank--',\n",
       "  'dance payers 1438 bonty circle oakland, ca'],\n",
       " ['HW_Sample1-page1.png',\n",
       "  'GROUP HEALTH PLAN',\n",
       "  'abc012345678',\n",
       "  'collins brooke',\n",
       "  '1959-07-28',\n",
       "  'doe john t',\n",
       "  'rhoncol',\n",
       "  '2018-04-23',\n",
       "  '2018-04-24',\n",
       "  '--blank--',\n",
       "  '--blank--',\n",
       "  'test 123',\n",
       "  '7089',\n",
       "  '--blank--',\n",
       "  '12500',\n",
       "  '00',\n",
       "  '1',\n",
       "  '--blank--',\n",
       "  '--blank--',\n",
       "  '--blank--',\n",
       "  '--blank--',\n",
       "  '--blank--',\n",
       "  '--blank--',\n",
       "  '--blank--',\n",
       "  '--blank--',\n",
       "  '--blank--',\n",
       "  '--blank--',\n",
       "  '--blank--',\n",
       "  '--blank--',\n",
       "  '--blank--',\n",
       "  '--blank--',\n",
       "  'desmoines, ia',\n",
       "  '(111)112-3456',\n",
       "  'abc hospital'],\n",
       " ['HW_smeared_4-page1.png',\n",
       "  'CHAMPVA',\n",
       "  '268994893707',\n",
       "  'heather dil',\n",
       "  '--blank--',\n",
       "  'adele casey',\n",
       "  'on file',\n",
       "  '--impossible--',\n",
       "  '--blank--',\n",
       "  'c',\n",
       "  'y',\n",
       "  '--blank--',\n",
       "  '--blank--',\n",
       "  '--blank--',\n",
       "  '$200',\n",
       "  '--blank--',\n",
       "  '--blank--',\n",
       "  '--blank--',\n",
       "  '64286310',\n",
       "  '--blank--',\n",
       "  '--blank--',\n",
       "  '--blank--',\n",
       "  '--blank--',\n",
       "  '--blank--',\n",
       "  '--blank--',\n",
       "  '--blank--',\n",
       "  '--blank--',\n",
       "  '--blank--',\n",
       "  '--blank--',\n",
       "  '--blank--',\n",
       "  '--blank--',\n",
       "  '1989 disney ln',\n",
       "  '(225)8009530',\n",
       "  '--blank--'],\n",
       " ['HW_smeared_10-page1.png',\n",
       "  'TRICARE',\n",
       "  '60834561',\n",
       "  'tinto, tyler, m.',\n",
       "  '--blank--',\n",
       "  'tinto, tyler, m.',\n",
       "  'g',\n",
       "  '1980-08-19',\n",
       "  '1999-09-20',\n",
       "  '23',\n",
       "  'y',\n",
       "  '99824',\n",
       "  'nw',\n",
       "  'abcd',\n",
       "  '981',\n",
       "  '00',\n",
       "  '1',\n",
       "  '--blank--',\n",
       "  '1861633428',\n",
       "  '--blank--',\n",
       "  '--blank--',\n",
       "  '--blank--',\n",
       "  '--blank--',\n",
       "  '--blank--',\n",
       "  '--blank--',\n",
       "  '--blank--',\n",
       "  '--blank--',\n",
       "  '--blank--',\n",
       "  '--blank--',\n",
       "  '--blank--',\n",
       "  '--blank--',\n",
       "  'acdc health center michigan, in, 95416',\n",
       "  '(000)0000000',\n",
       "  \"doctor's incorporated po box 627 los angels, ca, 96171\"],\n",
       " ['Printed_Sample1-page1.png',\n",
       "  'MEDICAID',\n",
       "  'xx-1234-xx-234',\n",
       "  'jason bourne',\n",
       "  '1978-12-22',\n",
       "  '--blank--',\n",
       "  '--blank--',\n",
       "  '2018-02-12',\n",
       "  '2018-04-12',\n",
       "  'tx',\n",
       "  'e',\n",
       "  'hcp',\n",
       "  '--blank--',\n",
       "  'abc',\n",
       "  '2500000',\n",
       "  '06',\n",
       "  '1',\n",
       "  '--blank--',\n",
       "  '3456782345',\n",
       "  '04/13/2018',\n",
       "  '051218',\n",
       "  'mn',\n",
       "  'e',\n",
       "  '--blank--',\n",
       "  '231 xy 12',\n",
       "  '123',\n",
       "  '5000000',\n",
       "  '06',\n",
       "  '2',\n",
       "  '--blank--',\n",
       "  '3456782345',\n",
       "  '--blank--',\n",
       "  '--blank--',\n",
       "  '--blank--']]"
      ]
     },
     "execution_count": 350,
     "metadata": {},
     "output_type": "execute_result"
    }
   ],
   "source": [
    "job_text"
   ]
  },
  {
   "cell_type": "code",
   "execution_count": 356,
   "metadata": {},
   "outputs": [],
   "source": [
    "def write_to_csv(csv_rows):\n",
    "    writer = csv.writer(open(\"captricity2_csv.csv\", 'w'))\n",
    "    for row in csv_rows:\n",
    "        writer.writerow(row)"
   ]
  },
  {
   "cell_type": "code",
   "execution_count": 357,
   "metadata": {},
   "outputs": [],
   "source": [
    "write_to_csv(job_text)"
   ]
  },
  {
   "cell_type": "code",
   "execution_count": null,
   "metadata": {},
   "outputs": [],
   "source": []
  }
 ],
 "metadata": {
  "kernelspec": {
   "display_name": "Python 3",
   "language": "python",
   "name": "python3"
  },
  "language_info": {
   "codemirror_mode": {
    "name": "ipython",
    "version": 3
   },
   "file_extension": ".py",
   "mimetype": "text/x-python",
   "name": "python",
   "nbconvert_exporter": "python",
   "pygments_lexer": "ipython3",
   "version": "3.6.6"
  }
 },
 "nbformat": 4,
 "nbformat_minor": 2
}
