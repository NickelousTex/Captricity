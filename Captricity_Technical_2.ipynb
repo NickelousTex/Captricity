{
 "cells": [
  {
   "cell_type": "code",
   "execution_count": 1,
   "metadata": {},
   "outputs": [],
   "source": [
    "import json, requests, csv\n",
    "from contextlib import closing\n",
    "from datetime import timedelta, date, datetime\n",
    "import dateparser #helpful for ambigious dates"
   ]
  },
  {
   "cell_type": "code",
   "execution_count": 2,
   "metadata": {},
   "outputs": [],
   "source": [
    "Batch_ID= 2995585\n",
    "API_token =  {'Captricity-API-Token': '435c308483e040fe9928418703216584'}\n",
    "BASE_URL = 'shreddr.captricity.com' "
   ]
  },
  {
   "cell_type": "code",
   "execution_count": 3,
   "metadata": {},
   "outputs": [],
   "source": [
    "def get_batch_info(batch_id, headers):\n",
    "    url = 'https://{}/api/v1/batch/{}'.format(BASE_URL, batch_id)\n",
    "    batch = requests.get(url, headers=headers)\n",
    "    return json.loads(batch.text)"
   ]
  },
  {
   "cell_type": "markdown",
   "metadata": {},
   "source": [
    " - > get list of child Batches from parent Batch\n",
    " "
   ]
  },
  {
   "cell_type": "code",
   "execution_count": 4,
   "metadata": {},
   "outputs": [],
   "source": [
    "Parent_batch = get_batch_info(Batch_ID,API_token)"
   ]
  },
  {
   "cell_type": "code",
   "execution_count": 5,
   "metadata": {},
   "outputs": [],
   "source": [
    "# Parent_batch"
   ]
  },
  {
   "cell_type": "markdown",
   "metadata": {},
   "source": [
    "   - > for each child Batch \n",
    "        - > get the child Batch info\n",
    "        - > if it is not the reject Batch\n",
    "        "
   ]
  },
  {
   "cell_type": "code",
   "execution_count": 6,
   "metadata": {},
   "outputs": [],
   "source": [
    "def get_children_job_info(parent_batch):\n",
    "    \"\"\"\n",
    "    Returns list of job ids from valid children batches\n",
    "    \"\"\"\n",
    "    job_list = []\n",
    "    for ids in Parent_batch['children_ids']:\n",
    "        child_branch = get_batch_info(ids, API_token)\n",
    "        if not child_branch['reject_reasons']: #verify if it's a reject batch pass if so, else return  jobs id\n",
    "            job_list.extend(child_branch['job_ids'])\n",
    "        else:\n",
    "            pass\n",
    "            \n",
    "    return job_list"
   ]
  },
  {
   "cell_type": "code",
   "execution_count": 7,
   "metadata": {},
   "outputs": [],
   "source": [
    "job_list = get_children_job_info(Parent_batch)\n",
    "# job_list[0]"
   ]
  },
  {
   "cell_type": "markdown",
   "metadata": {},
   "source": [
    "        - > pull the associated Job's output CSV\n",
    "                - > Question- are we always assuming one jobs ID? or should I account for multiple?"
   ]
  },
  {
   "cell_type": "code",
   "execution_count": 8,
   "metadata": {},
   "outputs": [],
   "source": [
    "def get_job_info(job_id, headers):\n",
    "    url = 'https://{}/api/v1/job/{}/csv/'.format(BASE_URL, job_id)\n",
    "    job = requests.get(url, headers=headers)\n",
    "    job_content = job.content.decode('utf-8')\n",
    "    cr = csv.reader(job_content.splitlines(), delimiter=',')\n",
    "    my_list = list(cr)\n",
    "    return my_list\n",
    "# job.text"
   ]
  },
  {
   "cell_type": "code",
   "execution_count": 9,
   "metadata": {},
   "outputs": [
    {
     "data": {
      "text/plain": [
       "'patient_dob'"
      ]
     },
     "execution_count": 9,
     "metadata": {},
     "output_type": "execute_result"
    }
   ],
   "source": [
    "job_text = get_job_info(job_list[0], API_token)\n",
    "job_text[0][4]\n",
    "# job_text[0][7]\n",
    "# job_text[0][8]"
   ]
  },
  {
   "cell_type": "code",
   "execution_count": 10,
   "metadata": {},
   "outputs": [
    {
     "name": "stdout",
     "output_type": "stream",
     "text": [
      "patient_dob:\n",
      "06/20/1979\n",
      "072859\n",
      "--blank--\n",
      "--blank--\n",
      "12221978\n",
      "dos_from:\n",
      "05/30/2000\n",
      "04/23/2018\n",
      "0902055\n",
      "08 19 80\n",
      "02/12/2018\n",
      "dos_to:\n",
      "05 30 2001\n",
      "042418\n",
      "--blank--\n",
      "09/20/1999\n",
      "04/12/2018\n"
     ]
    }
   ],
   "source": [
    "print('patient_dob:')\n",
    "for row in job_text[1:]:\n",
    "    print(row[4])\n",
    "print('dos_from:')\n",
    "for row in job_text[1:]:\n",
    "    print(row[7])\n",
    "print('dos_to:')\n",
    "for row in job_text[1:]:\n",
    "    print(row[8])"
   ]
  },
  {
   "cell_type": "code",
   "execution_count": 11,
   "metadata": {},
   "outputs": [
    {
     "ename": "NameError",
     "evalue": "name 'convert_date' is not defined",
     "output_type": "error",
     "traceback": [
      "\u001b[0;31m---------------------------------------------------------------------------\u001b[0m",
      "\u001b[0;31mNameError\u001b[0m                                 Traceback (most recent call last)",
      "\u001b[0;32m<ipython-input-11-661a04cb986e>\u001b[0m in \u001b[0;36m<module>\u001b[0;34m()\u001b[0m\n\u001b[1;32m      1\u001b[0m \u001b[0;32mfor\u001b[0m \u001b[0mrow\u001b[0m \u001b[0;32min\u001b[0m \u001b[0mjob_text\u001b[0m\u001b[0;34m[\u001b[0m\u001b[0;36m1\u001b[0m\u001b[0;34m:\u001b[0m\u001b[0;34m]\u001b[0m\u001b[0;34m:\u001b[0m\u001b[0;34m\u001b[0m\u001b[0m\n\u001b[0;32m----> 2\u001b[0;31m     \u001b[0mrow\u001b[0m\u001b[0;34m[\u001b[0m\u001b[0;36m4\u001b[0m\u001b[0;34m]\u001b[0m\u001b[0;34m=\u001b[0m\u001b[0mconvert_date\u001b[0m\u001b[0;34m(\u001b[0m\u001b[0mrow\u001b[0m\u001b[0;34m[\u001b[0m\u001b[0;36m4\u001b[0m\u001b[0;34m]\u001b[0m\u001b[0;34m)\u001b[0m\u001b[0;34m\u001b[0m\u001b[0m\n\u001b[0m\u001b[1;32m      3\u001b[0m     \u001b[0mrow\u001b[0m\u001b[0;34m[\u001b[0m\u001b[0;36m7\u001b[0m\u001b[0;34m]\u001b[0m\u001b[0;34m=\u001b[0m\u001b[0mconvert_date\u001b[0m\u001b[0;34m(\u001b[0m\u001b[0mrow\u001b[0m\u001b[0;34m[\u001b[0m\u001b[0;36m7\u001b[0m\u001b[0;34m]\u001b[0m\u001b[0;34m)\u001b[0m\u001b[0;34m\u001b[0m\u001b[0m\n\u001b[1;32m      4\u001b[0m     \u001b[0mrow\u001b[0m\u001b[0;34m[\u001b[0m\u001b[0;36m8\u001b[0m\u001b[0;34m]\u001b[0m\u001b[0;34m=\u001b[0m\u001b[0mconvert_date\u001b[0m\u001b[0;34m(\u001b[0m\u001b[0mrow\u001b[0m\u001b[0;34m[\u001b[0m\u001b[0;36m8\u001b[0m\u001b[0;34m]\u001b[0m\u001b[0;34m)\u001b[0m\u001b[0;34m\u001b[0m\u001b[0m\n",
      "\u001b[0;31mNameError\u001b[0m: name 'convert_date' is not defined"
     ]
    }
   ],
   "source": [
    "for row in job_text[1:]:\n",
    "    row[4]=convert_date(row[4])\n",
    "    row[7]=convert_date(row[7])\n",
    "    row[8]=convert_date(row[8])    "
   ]
  },
  {
   "cell_type": "code",
   "execution_count": null,
   "metadata": {},
   "outputs": [],
   "source": [
    "print('patient_dob:')\n",
    "for row in job_text[1:]:\n",
    "    print(row[4])\n",
    "print('dos_from:')\n",
    "for row in job_text[1:]:\n",
    "    print(row[7])\n",
    "print('dos_to:')\n",
    "for row in job_text[1:]:\n",
    "    print(row[8])"
   ]
  },
  {
   "cell_type": "code",
   "execution_count": null,
   "metadata": {},
   "outputs": [],
   "source": [
    "def format_date(old_date):\n",
    "    if old_date > old_date.today():\n",
    "        old_date -= timedelta(days=365.25*100)\n",
    "    else:\n",
    "        pass\n",
    "    return '{}-{:02d}-{:02d}'.format(old_date.year, old_date.month, old_date.day)"
   ]
  },
  {
   "cell_type": "code",
   "execution_count": 33,
   "metadata": {},
   "outputs": [],
   "source": [
    "#Simple checker\n",
    "def convert_date(try_date):\n",
    "    #Can always add in more potential date patterns\n",
    "    date_patterns = [\"%m/%d/%Y\", \"%m%d%y\", '%m%d%Y', '%m%d%y' '%m %d %Y','%Y-%m-%d', '%m %d %y', '%m %d %Y']\n",
    "    if try_date == '--blank--':\n",
    "        return '--blank--'\n",
    "    else:   \n",
    "        for pattern in date_patterns:\n",
    "            try:\n",
    "                datetime.strptime(try_date, pattern).date()  \n",
    "                return format_date(datetime.strptime(try_date, pattern).date())\n",
    "            except Exception as e:\n",
    "                print(e)\n",
    "                pass\n",
    "    return '--impossible--'"
   ]
  },
  {
   "cell_type": "code",
   "execution_count": 34,
   "metadata": {},
   "outputs": [
    {
     "name": "stdout",
     "output_type": "stream",
     "text": [
      "time data 'Nick' does not match format '%m/%d/%Y'\n",
      "time data 'Nick' does not match format '%m%d%y'\n",
      "time data 'Nick' does not match format '%m%d%Y'\n",
      "redefinition of group name 'm' as group 4; was group 1 at position 82\n",
      "time data 'Nick' does not match format '%Y-%m-%d'\n",
      "time data 'Nick' does not match format '%m %d %y'\n",
      "time data 'Nick' does not match format '%m %d %Y'\n"
     ]
    },
    {
     "data": {
      "text/plain": [
       "'--impossible--'"
      ]
     },
     "execution_count": 34,
     "metadata": {},
     "output_type": "execute_result"
    }
   ],
   "source": [
    "convert_date('Nick')"
   ]
  },
  {
   "cell_type": "code",
   "execution_count": null,
   "metadata": {},
   "outputs": [],
   "source": [
    "job_text"
   ]
  },
  {
   "cell_type": "code",
   "execution_count": null,
   "metadata": {},
   "outputs": [],
   "source": [
    "def write_to_csv(csv_rows):\n",
    "    writer = csv.writer(open(\"captricity2_csv.csv\", 'w'))\n",
    "    for row in csv_rows:\n",
    "        writer.writerow(row)"
   ]
  },
  {
   "cell_type": "code",
   "execution_count": null,
   "metadata": {},
   "outputs": [],
   "source": [
    "write_to_csv(job_text)"
   ]
  },
  {
   "cell_type": "code",
   "execution_count": null,
   "metadata": {},
   "outputs": [],
   "source": []
  },
  {
   "cell_type": "code",
   "execution_count": null,
   "metadata": {},
   "outputs": [],
   "source": []
  }
 ],
 "metadata": {
  "kernelspec": {
   "display_name": "Python 3",
   "language": "python",
   "name": "python3"
  },
  "language_info": {
   "codemirror_mode": {
    "name": "ipython",
    "version": 3
   },
   "file_extension": ".py",
   "mimetype": "text/x-python",
   "name": "python",
   "nbconvert_exporter": "python",
   "pygments_lexer": "ipython3",
   "version": "3.6.6"
  }
 },
 "nbformat": 4,
 "nbformat_minor": 2
}
