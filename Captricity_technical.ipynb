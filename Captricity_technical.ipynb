{
 "cells": [
  {
   "cell_type": "code",
   "execution_count": 1,
   "metadata": {},
   "outputs": [],
   "source": [
    "import json, requests, csv\n",
    "import pandas as pd\n",
    "from contextlib import closing\n",
    "from datetime import timedelta, date, datetime"
   ]
  },
  {
   "cell_type": "code",
   "execution_count": 2,
   "metadata": {},
   "outputs": [],
   "source": [
    "Batch_ID= 2995585\n",
    "API_token =  {'Captricity-API-Token': '435c308483e040fe9928418703216584'}\n",
    "BASE_URL = 'shreddr.captricity.com' "
   ]
  },
  {
   "cell_type": "code",
   "execution_count": 3,
   "metadata": {},
   "outputs": [],
   "source": [
    "def get_batch_info(batch_id, headers):\n",
    "    url = 'https://{}/api/v1/batch/{}'.format(BASE_URL, batch_id)\n",
    "    batch = requests.get(url, headers=headers)\n",
    "    return json.loads(batch.text)\n"
   ]
  },
  {
   "cell_type": "markdown",
   "metadata": {},
   "source": [
    " - > get list of child Batches from parent Batch\n",
    " "
   ]
  },
  {
   "cell_type": "code",
   "execution_count": 4,
   "metadata": {},
   "outputs": [],
   "source": [
    "Parent_batch = get_batch_info(Batch_ID,API_token)"
   ]
  },
  {
   "cell_type": "code",
   "execution_count": 5,
   "metadata": {},
   "outputs": [
    {
     "data": {
      "text/plain": [
       "{'content_created': None,\n",
       " 'children_ids': [2995586, 2995587],\n",
       " 'reject_reasons': [],\n",
       " 'is_digitized': True,\n",
       " 'related_job_id': None,\n",
       " 'created_with': 'auto',\n",
       " 'id': 2995585,\n",
       " 'documents': [],\n",
       " 'user_id': 31953,\n",
       " 'last_emailed_by': '',\n",
       " 'created_by': 'Solution Engineer',\n",
       " 'parent_id': None,\n",
       " 'templates': [{'status': 'active',\n",
       "   'read_only': True,\n",
       "   'name': 'HCFA Template',\n",
       "   'created': '2018-11-03T20:09:07.302',\n",
       "   'pattern': ['and', ['or', 483186, 483187]],\n",
       "   'page_count': 1,\n",
       "   'modified': '2018-11-03T20:12:15.978',\n",
       "   'safe_editable': True,\n",
       "   'sheets': [{'version_number': None,\n",
       "     'name': 'HCFA_08_05.png',\n",
       "     'created': '2018-11-03T20:09:07.697',\n",
       "     'modified': '2018-11-03T20:09:07.697',\n",
       "     'template_id': 3158,\n",
       "     'page_number': -1,\n",
       "     'image_file': 'd01d11d5-9062-4dcf-ba17-2bddbe7e38dc.png',\n",
       "     'version_name': None,\n",
       "     'id': 483187,\n",
       "     'document_id': None},\n",
       "    {'version_number': None,\n",
       "     'name': 'HCFA_02_12.png',\n",
       "     'created': '2018-11-03T20:09:07.597',\n",
       "     'modified': '2018-11-03T20:09:07.597',\n",
       "     'template_id': 3158,\n",
       "     'page_number': -1,\n",
       "     'image_file': '894bd725-8ee1-440a-b934-5f3820762fb6.png',\n",
       "     'version_name': None,\n",
       "     'id': 483186,\n",
       "     'document_id': None}],\n",
       "   'id': 3158}],\n",
       " 'is_sorting_only': True,\n",
       " 'status': 'processed',\n",
       " 'is_reject_batch': False,\n",
       " 'emailed_by': '',\n",
       " 'sorting_enabled': True,\n",
       " 'last_uploader': 'Solution Engineer',\n",
       " 'job_ids': [],\n",
       " 'last_upload_date': '2018-11-03T20:11:39.098',\n",
       " 'name': 'HCFA Demo Batch',\n",
       " 'created': '2018-11-03T20:11:38.714',\n",
       " 'submitted': '2018-11-03T20:17:14.670',\n",
       " 'actionable': False,\n",
       " 'file_count': 5,\n",
       " 'last_uploaded_with': 'auto'}"
      ]
     },
     "execution_count": 5,
     "metadata": {},
     "output_type": "execute_result"
    }
   ],
   "source": [
    "Parent_batch"
   ]
  },
  {
   "cell_type": "markdown",
   "metadata": {},
   "source": [
    "   - > for each child Batch \n",
    "        - > get the child Batch info\n",
    "        - > if it is not the reject Batch\n",
    "        "
   ]
  },
  {
   "cell_type": "code",
   "execution_count": 6,
   "metadata": {},
   "outputs": [],
   "source": [
    "def get_children_job_info(parent_batch):\n",
    "    \"\"\"\n",
    "    Returns list of job ids from valid children batches\n",
    "    \"\"\"\n",
    "    job_list = []\n",
    "    for ids in Parent_batch['children_ids']:\n",
    "        child_branch = get_batch_info(ids, API_token)\n",
    "        if not child_branch['reject_reasons']: #verify if it's a reject batch pass if so, else return  jobs id\n",
    "            job_list.extend(child_branch['job_ids'])\n",
    "        else:\n",
    "            pass\n",
    "            \n",
    "    return job_list"
   ]
  },
  {
   "cell_type": "code",
   "execution_count": 7,
   "metadata": {},
   "outputs": [
    {
     "data": {
      "text/plain": [
       "1920495"
      ]
     },
     "execution_count": 7,
     "metadata": {},
     "output_type": "execute_result"
    }
   ],
   "source": [
    "job_list = get_children_job_info(Parent_batch)\n",
    "job_list[0]"
   ]
  },
  {
   "cell_type": "markdown",
   "metadata": {},
   "source": [
    "        - > pull the associated Job's output CSV\n",
    "                - > Question- are we always assuming one jobs ID? or should I account for multiple?"
   ]
  },
  {
   "cell_type": "markdown",
   "metadata": {},
   "source": [
    "\n",
    "       "
   ]
  },
  {
   "cell_type": "code",
   "execution_count": 8,
   "metadata": {},
   "outputs": [],
   "source": [
    "# #For use if we want to run mutiple job lists\n",
    "# def run_jobs(job_list):\n",
    "#     for job_id in job_list:\n",
    "#         return get_job_info(job_id, API_token)"
   ]
  },
  {
   "cell_type": "code",
   "execution_count": 8,
   "metadata": {},
   "outputs": [],
   "source": [
    "def get_job_info(job_id, headers):\n",
    "    url = 'https://{}/api/v1/job/{}/csv/'.format(BASE_URL, job_id)\n",
    "    job = requests.get(url, headers=headers)\n",
    "    \n",
    "    return job.text"
   ]
  },
  {
   "cell_type": "code",
   "execution_count": 9,
   "metadata": {},
   "outputs": [],
   "source": [
    "job_text = get_job_info(job_list[0], API_token)"
   ]
  },
  {
   "cell_type": "code",
   "execution_count": 10,
   "metadata": {},
   "outputs": [
    {
     "data": {
      "text/plain": [
       "'name,plan_type,insured_id,patient_name,patient_dob,insured_name,signature,dos_from,dos_to,pos,emg,cpt,modifier,diag_pointer,charges_dollars,charges_cents,day_of_unit,family_plan,npi,dos_from1,dos_to1,pos1,emg1,cpt1,modifier1,diag_pointer1,charges_dollars1,charges_cents1,day_of_unit1,family_plan1,npi1,service_location,billing_phone,billing_info\\r\\nHW_info_spills_smeared_mc_numbersvv_1-page1.png,CHAMPVA,20340121,jason vorheas,06/20/1979,jason vorheas,kew,05/30/2000,05 30 2001,i,20,401,--blank--,x,300,00,x,4,41260,--blank--,--blank--,--blank--,--blank--,--blank--,--blank--,--blank--,--blank--,--blank--,--blank--,--blank--,--blank--,\"sap testing oakland, ca\",--blank--,\"dance payers 1438 bonty circle oakland, ca\"\\r\\nHW_Sample1-page1.png,GROUP HEALTH PLAN,abc012345678,collins brooke,072859,doe john t,rhoncol,04/23/2018,042418,--blank--,--blank--,test 123,7089,--blank--,12500,00,1,--blank--,--blank--,--blank--,--blank--,--blank--,--blank--,--blank--,--blank--,--blank--,--blank--,--blank--,--blank--,--blank--,--blank--,\"desmoines, ia\",(111)112-3456,abc hospital\\r\\nHW_smeared_4-page1.png,CHAMPVA,268994893707,heather dil,--blank--,adele casey,on file,0902055,--blank--,c,y,--blank--,--blank--,--blank--,$200,--blank--,--blank--,--blank--,64286310,--blank--,--blank--,--blank--,--blank--,--blank--,--blank--,--blank--,--blank--,--blank--,--blank--,--blank--,--blank--,1989 disney ln,(225)8009530,--blank--\\r\\nHW_smeared_10-page1.png,TRICARE,60834561,\"tinto, tyler, m.\",--blank--,\"tinto, tyler, m.\",g,08 19 80,09/20/1999,23,y,99824,nw,abcd,981,00,1,--blank--,1861633428,--blank--,--blank--,--blank--,--blank--,--blank--,--blank--,--blank--,--blank--,--blank--,--blank--,--blank--,--blank--,\"acdc health center michigan, in, 95416\",(000)0000000,\"doctor\\'s incorporated po box 627 los angels, ca, 96171\"\\r\\nPrinted_Sample1-page1.png,MEDICAID,xx-1234-xx-234,jason bourne,12221978,--blank--,--blank--,02/12/2018,04/12/2018,tx,e,hcp,--blank--,abc,2500000,06,1,--blank--,3456782345,04/13/2018,051218,mn,e,--blank--,231 xy 12,123,5000000,06,2,--blank--,3456782345,--blank--,--blank--,--blank--\\r\\n'"
      ]
     },
     "execution_count": 10,
     "metadata": {},
     "output_type": "execute_result"
    }
   ],
   "source": [
    "job_text"
   ]
  },
  {
   "cell_type": "markdown",
   "metadata": {},
   "source": [
    "job_raw = get_job_info(1920495, API_token) => #403 without token, 400 (Forgot parenthases), 404 now with job id- is it right format? Excellent, Reponse 200"
   ]
  },
  {
   "cell_type": "code",
   "execution_count": 12,
   "metadata": {},
   "outputs": [
    {
     "name": "stdout",
     "output_type": "stream",
     "text": [
      "name,plan_type,insured_id,patient_name,patient_dob,insured_name,signature,dos_from,dos_to,pos,emg,cpt,modifier,diag_pointer,charges_dollars,charges_cents,day_of_unit,family_plan,npi,dos_from1,dos_to1,pos1,emg1,cpt1,modifier1,diag_pointer1,charges_dollars1,charges_cents1,day_of_unit1,family_plan1,npi1,service_location,billing_phone,billing_info\n",
      "HW_info_spills_smeared_mc_numbersvv_1-page1.png,CHAMPVA,20340121,jason\n",
      "vorheas,06/20/1979,jason\n",
      "vorheas,kew,05/30/2000,05\n",
      "30\n",
      "2001,i,20,401,--blank--,x,300,00,x,4,41260,--blank--,--blank--,--blank--,--blank--,--blank--,--blank--,--blank--,--blank--,--blank--,--blank--,--blank--,--blank--,\"sap\n",
      "testing\n",
      "oakland,\n",
      "ca\",--blank--,\"dance\n",
      "payers\n",
      "1438\n",
      "bonty\n",
      "circle\n",
      "oakland,\n",
      "ca\"\n",
      "HW_Sample1-page1.png,GROUP\n",
      "HEALTH\n",
      "PLAN,abc012345678,collins\n",
      "brooke,072859,doe\n",
      "john\n",
      "t,rhoncol,04/23/2018,042418,--blank--,--blank--,test\n",
      "123,7089,--blank--,12500,00,1,--blank--,--blank--,--blank--,--blank--,--blank--,--blank--,--blank--,--blank--,--blank--,--blank--,--blank--,--blank--,--blank--,--blank--,\"desmoines,\n",
      "ia\",(111)112-3456,abc\n",
      "hospital\n",
      "HW_smeared_4-page1.png,CHAMPVA,268994893707,heather\n",
      "dil,--blank--,adele\n",
      "casey,on\n",
      "file,0902055,--blank--,c,y,--blank--,--blank--,--blank--,$200,--blank--,--blank--,--blank--,64286310,--blank--,--blank--,--blank--,--blank--,--blank--,--blank--,--blank--,--blank--,--blank--,--blank--,--blank--,--blank--,1989\n",
      "disney\n",
      "ln,(225)8009530,--blank--\n",
      "HW_smeared_10-page1.png,TRICARE,60834561,\"tinto,\n",
      "tyler,\n",
      "m.\",--blank--,\"tinto,\n",
      "tyler,\n",
      "m.\",g,08\n",
      "19\n",
      "80,09/20/1999,23,y,99824,nw,abcd,981,00,1,--blank--,1861633428,--blank--,--blank--,--blank--,--blank--,--blank--,--blank--,--blank--,--blank--,--blank--,--blank--,--blank--,--blank--,\"acdc\n",
      "health\n",
      "center\n",
      "michigan,\n",
      "in,\n",
      "95416\",(000)0000000,\"doctor's\n",
      "incorporated\n",
      "po\n",
      "box\n",
      "627\n",
      "los\n",
      "angels,\n",
      "ca,\n",
      "96171\"\n",
      "Printed_Sample1-page1.png,MEDICAID,xx-1234-xx-234,jason\n",
      "bourne,12221978,--blank--,--blank--,02/12/2018,04/12/2018,tx,e,hcp,--blank--,abc,2500000,06,1,--blank--,3456782345,04/13/2018,051218,mn,e,--blank--,231\n",
      "xy\n",
      "12,123,5000000,06,2,--blank--,3456782345,--blank--,--blank--,--blank--\n"
     ]
    }
   ],
   "source": [
    "for row in job_text.split():\n",
    "    print (row)"
   ]
  },
  {
   "cell_type": "code",
   "execution_count": 13,
   "metadata": {},
   "outputs": [],
   "source": [
    "def read_csv_url(job_text):\n",
    "    reader = csv.reader(job_text.split('\\n'), delimiter=',')\n",
    "    df= pd.DataFrame([row for row in reader])\n",
    "    df = df.rename(columns=df.iloc[0]).drop(df.index[0])\n",
    "    return df"
   ]
  },
  {
   "cell_type": "code",
   "execution_count": 14,
   "metadata": {},
   "outputs": [],
   "source": [
    "df = read_csv_url(job_text)"
   ]
  },
  {
   "cell_type": "markdown",
   "metadata": {},
   "source": [
    "       - > transform the 3 date column values for all rows\n",
    "       "
   ]
  },
  {
   "cell_type": "code",
   "execution_count": 15,
   "metadata": {},
   "outputs": [
    {
     "data": {
      "text/html": [
       "<div>\n",
       "<style scoped>\n",
       "    .dataframe tbody tr th:only-of-type {\n",
       "        vertical-align: middle;\n",
       "    }\n",
       "\n",
       "    .dataframe tbody tr th {\n",
       "        vertical-align: top;\n",
       "    }\n",
       "\n",
       "    .dataframe thead th {\n",
       "        text-align: right;\n",
       "    }\n",
       "</style>\n",
       "<table border=\"1\" class=\"dataframe\">\n",
       "  <thead>\n",
       "    <tr style=\"text-align: right;\">\n",
       "      <th></th>\n",
       "      <th>name</th>\n",
       "      <th>plan_type</th>\n",
       "      <th>insured_id</th>\n",
       "      <th>patient_name</th>\n",
       "      <th>patient_dob</th>\n",
       "      <th>insured_name</th>\n",
       "      <th>signature</th>\n",
       "      <th>dos_from</th>\n",
       "      <th>dos_to</th>\n",
       "      <th>pos</th>\n",
       "      <th>...</th>\n",
       "      <th>modifier1</th>\n",
       "      <th>diag_pointer1</th>\n",
       "      <th>charges_dollars1</th>\n",
       "      <th>charges_cents1</th>\n",
       "      <th>day_of_unit1</th>\n",
       "      <th>family_plan1</th>\n",
       "      <th>npi1</th>\n",
       "      <th>service_location</th>\n",
       "      <th>billing_phone</th>\n",
       "      <th>billing_info</th>\n",
       "    </tr>\n",
       "  </thead>\n",
       "  <tbody>\n",
       "    <tr>\n",
       "      <th>1</th>\n",
       "      <td>HW_info_spills_smeared_mc_numbersvv_1-page1.png</td>\n",
       "      <td>CHAMPVA</td>\n",
       "      <td>20340121</td>\n",
       "      <td>jason vorheas</td>\n",
       "      <td>06/20/1979</td>\n",
       "      <td>jason vorheas</td>\n",
       "      <td>kew</td>\n",
       "      <td>05/30/2000</td>\n",
       "      <td>05 30 2001</td>\n",
       "      <td>i</td>\n",
       "      <td>...</td>\n",
       "      <td>--blank--</td>\n",
       "      <td>--blank--</td>\n",
       "      <td>--blank--</td>\n",
       "      <td>--blank--</td>\n",
       "      <td>--blank--</td>\n",
       "      <td>--blank--</td>\n",
       "      <td>--blank--</td>\n",
       "      <td>sap testing oakland, ca</td>\n",
       "      <td>--blank--</td>\n",
       "      <td>dance payers 1438 bonty circle oakland, ca</td>\n",
       "    </tr>\n",
       "    <tr>\n",
       "      <th>2</th>\n",
       "      <td>HW_Sample1-page1.png</td>\n",
       "      <td>GROUP HEALTH PLAN</td>\n",
       "      <td>abc012345678</td>\n",
       "      <td>collins brooke</td>\n",
       "      <td>072859</td>\n",
       "      <td>doe john t</td>\n",
       "      <td>rhoncol</td>\n",
       "      <td>04/23/2018</td>\n",
       "      <td>042418</td>\n",
       "      <td>--blank--</td>\n",
       "      <td>...</td>\n",
       "      <td>--blank--</td>\n",
       "      <td>--blank--</td>\n",
       "      <td>--blank--</td>\n",
       "      <td>--blank--</td>\n",
       "      <td>--blank--</td>\n",
       "      <td>--blank--</td>\n",
       "      <td>--blank--</td>\n",
       "      <td>desmoines, ia</td>\n",
       "      <td>(111)112-3456</td>\n",
       "      <td>abc hospital</td>\n",
       "    </tr>\n",
       "    <tr>\n",
       "      <th>3</th>\n",
       "      <td>HW_smeared_4-page1.png</td>\n",
       "      <td>CHAMPVA</td>\n",
       "      <td>268994893707</td>\n",
       "      <td>heather dil</td>\n",
       "      <td>--blank--</td>\n",
       "      <td>adele casey</td>\n",
       "      <td>on file</td>\n",
       "      <td>0902055</td>\n",
       "      <td>--blank--</td>\n",
       "      <td>c</td>\n",
       "      <td>...</td>\n",
       "      <td>--blank--</td>\n",
       "      <td>--blank--</td>\n",
       "      <td>--blank--</td>\n",
       "      <td>--blank--</td>\n",
       "      <td>--blank--</td>\n",
       "      <td>--blank--</td>\n",
       "      <td>--blank--</td>\n",
       "      <td>1989 disney ln</td>\n",
       "      <td>(225)8009530</td>\n",
       "      <td>--blank--</td>\n",
       "    </tr>\n",
       "    <tr>\n",
       "      <th>4</th>\n",
       "      <td>HW_smeared_10-page1.png</td>\n",
       "      <td>TRICARE</td>\n",
       "      <td>60834561</td>\n",
       "      <td>tinto, tyler, m.</td>\n",
       "      <td>--blank--</td>\n",
       "      <td>tinto, tyler, m.</td>\n",
       "      <td>g</td>\n",
       "      <td>08 19 80</td>\n",
       "      <td>09/20/1999</td>\n",
       "      <td>23</td>\n",
       "      <td>...</td>\n",
       "      <td>--blank--</td>\n",
       "      <td>--blank--</td>\n",
       "      <td>--blank--</td>\n",
       "      <td>--blank--</td>\n",
       "      <td>--blank--</td>\n",
       "      <td>--blank--</td>\n",
       "      <td>--blank--</td>\n",
       "      <td>acdc health center michigan, in, 95416</td>\n",
       "      <td>(000)0000000</td>\n",
       "      <td>doctor's incorporated po box 627 los angels, c...</td>\n",
       "    </tr>\n",
       "    <tr>\n",
       "      <th>5</th>\n",
       "      <td>Printed_Sample1-page1.png</td>\n",
       "      <td>MEDICAID</td>\n",
       "      <td>xx-1234-xx-234</td>\n",
       "      <td>jason bourne</td>\n",
       "      <td>12221978</td>\n",
       "      <td>--blank--</td>\n",
       "      <td>--blank--</td>\n",
       "      <td>02/12/2018</td>\n",
       "      <td>04/12/2018</td>\n",
       "      <td>tx</td>\n",
       "      <td>...</td>\n",
       "      <td>231 xy 12</td>\n",
       "      <td>123</td>\n",
       "      <td>5000000</td>\n",
       "      <td>06</td>\n",
       "      <td>2</td>\n",
       "      <td>--blank--</td>\n",
       "      <td>3456782345</td>\n",
       "      <td>--blank--</td>\n",
       "      <td>--blank--</td>\n",
       "      <td>--blank--</td>\n",
       "    </tr>\n",
       "    <tr>\n",
       "      <th>6</th>\n",
       "      <td>None</td>\n",
       "      <td>None</td>\n",
       "      <td>None</td>\n",
       "      <td>None</td>\n",
       "      <td>None</td>\n",
       "      <td>None</td>\n",
       "      <td>None</td>\n",
       "      <td>None</td>\n",
       "      <td>None</td>\n",
       "      <td>None</td>\n",
       "      <td>...</td>\n",
       "      <td>None</td>\n",
       "      <td>None</td>\n",
       "      <td>None</td>\n",
       "      <td>None</td>\n",
       "      <td>None</td>\n",
       "      <td>None</td>\n",
       "      <td>None</td>\n",
       "      <td>None</td>\n",
       "      <td>None</td>\n",
       "      <td>None</td>\n",
       "    </tr>\n",
       "  </tbody>\n",
       "</table>\n",
       "<p>6 rows × 34 columns</p>\n",
       "</div>"
      ],
      "text/plain": [
       "                                              name          plan_type  \\\n",
       "1  HW_info_spills_smeared_mc_numbersvv_1-page1.png            CHAMPVA   \n",
       "2                             HW_Sample1-page1.png  GROUP HEALTH PLAN   \n",
       "3                           HW_smeared_4-page1.png            CHAMPVA   \n",
       "4                          HW_smeared_10-page1.png            TRICARE   \n",
       "5                        Printed_Sample1-page1.png           MEDICAID   \n",
       "6                                             None               None   \n",
       "\n",
       "       insured_id      patient_name patient_dob      insured_name  signature  \\\n",
       "1        20340121     jason vorheas  06/20/1979     jason vorheas        kew   \n",
       "2    abc012345678    collins brooke      072859        doe john t    rhoncol   \n",
       "3    268994893707       heather dil   --blank--       adele casey    on file   \n",
       "4        60834561  tinto, tyler, m.   --blank--  tinto, tyler, m.          g   \n",
       "5  xx-1234-xx-234      jason bourne    12221978         --blank--  --blank--   \n",
       "6            None              None        None              None       None   \n",
       "\n",
       "     dos_from      dos_to        pos  \\\n",
       "1  05/30/2000  05 30 2001          i   \n",
       "2  04/23/2018      042418  --blank--   \n",
       "3     0902055   --blank--          c   \n",
       "4    08 19 80  09/20/1999         23   \n",
       "5  02/12/2018  04/12/2018         tx   \n",
       "6        None        None       None   \n",
       "\n",
       "                         ...                          modifier1 diag_pointer1  \\\n",
       "1                        ...                          --blank--     --blank--   \n",
       "2                        ...                          --blank--     --blank--   \n",
       "3                        ...                          --blank--     --blank--   \n",
       "4                        ...                          --blank--     --blank--   \n",
       "5                        ...                          231 xy 12           123   \n",
       "6                        ...                               None          None   \n",
       "\n",
       "  charges_dollars1 charges_cents1 day_of_unit1 family_plan1        npi1  \\\n",
       "1        --blank--      --blank--    --blank--    --blank--   --blank--   \n",
       "2        --blank--      --blank--    --blank--    --blank--   --blank--   \n",
       "3        --blank--      --blank--    --blank--    --blank--   --blank--   \n",
       "4        --blank--      --blank--    --blank--    --blank--   --blank--   \n",
       "5          5000000             06            2    --blank--  3456782345   \n",
       "6             None           None         None         None        None   \n",
       "\n",
       "                         service_location  billing_phone  \\\n",
       "1                 sap testing oakland, ca      --blank--   \n",
       "2                           desmoines, ia  (111)112-3456   \n",
       "3                          1989 disney ln   (225)8009530   \n",
       "4  acdc health center michigan, in, 95416   (000)0000000   \n",
       "5                               --blank--      --blank--   \n",
       "6                                    None           None   \n",
       "\n",
       "                                        billing_info  \n",
       "1         dance payers 1438 bonty circle oakland, ca  \n",
       "2                                       abc hospital  \n",
       "3                                          --blank--  \n",
       "4  doctor's incorporated po box 627 los angels, c...  \n",
       "5                                          --blank--  \n",
       "6                                               None  \n",
       "\n",
       "[6 rows x 34 columns]"
      ]
     },
     "execution_count": 15,
     "metadata": {},
     "output_type": "execute_result"
    }
   ],
   "source": [
    "df"
   ]
  },
  {
   "cell_type": "code",
   "execution_count": null,
   "metadata": {},
   "outputs": [],
   "source": [
    "#Edit 11/12 New solution:\n"
   ]
  },
  {
   "cell_type": "code",
   "execution_count": 14,
   "metadata": {},
   "outputs": [],
   "source": [
    "def convert_datetime(df, col_name):\n",
    "\n",
    "    date_series = df[col_name]\n",
    "#     for date in date_series:\n",
    "#         if type(date) is str:\n",
    "#             date_series.replace(date, pd.to_datetime(date,format='%m%d%Y', errors='ignore'))\n",
    "#     print(date_series)      \n",
    "    new_dates = pd.to_datetime(date_series, errors= 'coerce')\n",
    "    for date in new_dates:\n",
    "        if not datetime.date:\n",
    "            pass \n",
    "        elif date > datetime.utcnow():\n",
    "            new_dates.replace(date, date - timedelta(days=365.25*100), inplace=True)\n",
    "        else:\n",
    "            pass\n",
    "    \n",
    "    return(new_dates)\n"
   ]
  },
  {
   "cell_type": "code",
   "execution_count": 15,
   "metadata": {},
   "outputs": [],
   "source": [
    "df['patient_dob'] = convert_datetime(df, 'patient_dob')\n",
    "# df['dos_from'] = convert_datetime(df, 'dos_from')\n",
    "# df['dos_to'] = convert_datetime(df, 'dos_to')"
   ]
  },
  {
   "cell_type": "code",
   "execution_count": 16,
   "metadata": {},
   "outputs": [
    {
     "data": {
      "text/plain": [
       "1   1979-06-20\n",
       "2   1959-07-28\n",
       "3          NaT\n",
       "4          NaT\n",
       "5          NaT\n",
       "6          NaT\n",
       "Name: patient_dob, dtype: datetime64[ns]"
      ]
     },
     "execution_count": 16,
     "metadata": {},
     "output_type": "execute_result"
    }
   ],
   "source": [
    "df['patient_dob'] #Known issue, not working with row 5 (check if str/int) ()\n",
    "# df['dos_from']  #Known issue, not working with row 3 (but not sure of the date anyways honestly)\n",
    "# df['dos_to']"
   ]
  },
  {
   "cell_type": "code",
   "execution_count": 17,
   "metadata": {},
   "outputs": [
    {
     "data": {
      "text/plain": [
       "1   1979-06-20\n",
       "2   1959-07-28\n",
       "3          NaT\n",
       "4          NaT\n",
       "5          NaT\n",
       "6          NaT\n",
       "Name: patient_dob, dtype: datetime64[ns]"
      ]
     },
     "execution_count": 17,
     "metadata": {},
     "output_type": "execute_result"
    }
   ],
   "source": [
    "df['patient_dob']"
   ]
  },
  {
   "cell_type": "code",
   "execution_count": 18,
   "metadata": {},
   "outputs": [
    {
     "data": {
      "text/plain": [
       "NaT"
      ]
     },
     "execution_count": 18,
     "metadata": {},
     "output_type": "execute_result"
    }
   ],
   "source": [
    "pd.to_datetime(df['patient_dob'][5],format='%m%d%Y', errors='coerce')\n",
    "# df['dos_from'] \n",
    "# df['dos_to']"
   ]
  },
  {
   "cell_type": "markdown",
   "metadata": {},
   "source": [
    "- > save final C"
   ]
  },
  {
   "cell_type": "code",
   "execution_count": 19,
   "metadata": {},
   "outputs": [],
   "source": [
    "df.to_csv('my_save_job.csv')"
   ]
  },
  {
   "cell_type": "code",
   "execution_count": null,
   "metadata": {},
   "outputs": [],
   "source": []
  }
 ],
 "metadata": {
  "kernelspec": {
   "display_name": "Python 3",
   "language": "python",
   "name": "python3"
  },
  "language_info": {
   "codemirror_mode": {
    "name": "ipython",
    "version": 3
   },
   "file_extension": ".py",
   "mimetype": "text/x-python",
   "name": "python",
   "nbconvert_exporter": "python",
   "pygments_lexer": "ipython3",
   "version": "3.6.6"
  }
 },
 "nbformat": 4,
 "nbformat_minor": 2
}
